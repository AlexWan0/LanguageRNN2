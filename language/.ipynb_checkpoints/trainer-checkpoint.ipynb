{
 "cells": [
  {
   "cell_type": "code",
   "execution_count": 1,
   "id": "f7fadcfa",
   "metadata": {},
   "outputs": [],
   "source": [
    "%load_ext autoreload\n",
    "%autoreload 2"
   ]
  },
  {
   "cell_type": "code",
   "execution_count": 2,
   "id": "fe8d6ef0",
   "metadata": {},
   "outputs": [],
   "source": [
    "SEED = 0\n",
    "\n",
    "import torch\n",
    "torch.manual_seed(SEED)\n",
    "\n",
    "import random\n",
    "random.seed(SEED)\n",
    "\n",
    "import numpy as np\n",
    "np.random.seed(SEED)"
   ]
  },
  {
   "cell_type": "code",
   "execution_count": 3,
   "id": "fa769ff9",
   "metadata": {},
   "outputs": [],
   "source": [
    "from data import build_data\n",
    "\n",
    "sit2id, sid2uids, train_sit_id, valid_sit_id, situations, utterances = build_data()"
   ]
  },
  {
   "cell_type": "code",
   "execution_count": 4,
   "id": "20efb6b0",
   "metadata": {
    "scrolled": true
   },
   "outputs": [
    {
     "name": "stdout",
     "output_type": "stream",
     "text": [
      "vocab size: 1 bi1\n",
      "vocab size: 2 x1\n",
      "vocab size: 3 \n",
      "vocab size: 4 bl1\n",
      "vocab size: 5 st1\n",
      "vocab size: 6 ab2\n",
      "vocab size: 7 x2\n",
      "vocab size: 8 me1\n",
      "vocab size: 9 gr1\n",
      "vocab size: 10 sq1\n",
      "vocab size: 11 pu1\n",
      "vocab size: 12 or1\n",
      "vocab size: 13 sm1\n",
      "vocab size: 14 ci1\n",
      "vocab size: 15 le2\n",
      "vocab size: 16 tr1\n",
      "vocab size: 17 re1\n",
      "vocab size: 18 he1\n",
      "vocab size: 19 el1\n",
      "vocab size: 20 ye1\n",
      "vocab size: 1 the\n",
      "vocab size: 2 star\n",
      "vocab size: 3 big\n",
      "vocab size: 4 blue\n",
      "vocab size: 5 above\n",
      "vocab size: 6 medium\n",
      "vocab size: 7 green\n",
      "vocab size: 8 square\n",
      "vocab size: 9 below\n",
      "vocab size: 10 purple\n",
      "vocab size: 11 orange\n",
      "vocab size: 12 small\n",
      "vocab size: 13 circle\n",
      "vocab size: 14 to\n",
      "vocab size: 15 left\n",
      "vocab size: 16 of\n",
      "vocab size: 17 triangle\n",
      "vocab size: 18 right\n",
      "vocab size: 19 red\n",
      "vocab size: 20 hexagon\n",
      "vocab size: 21 ellipse\n",
      "vocab size: 22 yellow\n",
      "vocab size: 21 !\n",
      "vocab size: 22 ^\n",
      "vocab size: 23 _\n",
      "vocab size: 23 !\n",
      "vocab size: 24 ^\n"
     ]
    }
   ],
   "source": [
    "from vocab import build_vocab\n",
    "\n",
    "v1, v2, eos_id, start_id = build_vocab(situations, utterances)"
   ]
  },
  {
   "cell_type": "code",
   "execution_count": 5,
   "id": "341d2f36",
   "metadata": {},
   "outputs": [],
   "source": [
    "from net import build_model\n",
    "\n",
    "(enc, opt_enc), (dec, opt_dec) = build_model(v1, v2, enc_lr=5e-4, dec_lr=5e-4)"
   ]
  },
  {
   "cell_type": "code",
   "execution_count": 6,
   "id": "fec9ad2d",
   "metadata": {},
   "outputs": [],
   "source": [
    "from train import wrap_forward\n",
    "\n",
    "model_forward = wrap_forward(enc, dec, start_id, eos_id)"
   ]
  },
  {
   "cell_type": "code",
   "execution_count": 7,
   "id": "bde441e9",
   "metadata": {},
   "outputs": [],
   "source": [
    "from experiment import Plotter, RunningAvg\n",
    "\n",
    "train_loss_run = RunningAvg(10)\n",
    "plot = Plotter()"
   ]
  },
  {
   "cell_type": "code",
   "execution_count": 8,
   "id": "3fd2de5c",
   "metadata": {},
   "outputs": [],
   "source": [
    "from completeness import beam_completeness"
   ]
  },
  {
   "cell_type": "code",
   "execution_count": 9,
   "id": "bacdf6dd",
   "metadata": {},
   "outputs": [],
   "source": [
    "from sampling import build_sampling\n",
    "\n",
    "run_sampling = True\n",
    "\n",
    "run_sampling = build_sampling(enc,\n",
    "                              dec,\n",
    "                              v2,\n",
    "                              start_id,\n",
    "                              eos_id,\n",
    "                              lr=1e-5,\n",
    "                              temperature=1.0,\n",
    "                              gen_length=13)"
   ]
  },
  {
   "cell_type": "code",
   "execution_count": 10,
   "id": "8a592fe9",
   "metadata": {
    "scrolled": true
   },
   "outputs": [
    {
     "data": {
      "application/vnd.jupyter.widget-view+json": {
       "model_id": "c4aeca4bc92144fd93036823679b3dbb",
       "version_major": 2,
       "version_minor": 0
      },
      "text/plain": [
       "  0%|          | 0/18000 [00:00<?, ?it/s]"
      ]
     },
     "metadata": {},
     "output_type": "display_data"
    },
    {
     "data": {
      "image/png": "[encoded data removed]",
      "text/plain": [
       "<Figure size 1080x720 with 9 Axes>"
      ]
     },
     "metadata": {
      "needs_background": "light"
     },
     "output_type": "display_data"
    },
    {
     "name": "stdout",
     "output_type": "stream",
     "text": [
      "START SAMPLING:\n"
     ]
    },
    {
     "data": {
      "application/vnd.jupyter.widget-view+json": {
       "model_id": "ea95ffe4a60a41e78ebcec31935e514e",
       "version_major": 2,
       "version_minor": 0
      },
      "text/plain": [
       "  0%|          | 0/100 [00:00<?, ?it/s]"
      ]
     },
     "metadata": {},
     "output_type": "display_data"
    },
    {
     "ename": "KeyboardInterrupt",
     "evalue": "",
     "output_type": "error",
     "traceback": [
      "\u001b[0;31m---------------------------------------------------------------------------\u001b[0m",
      "\u001b[0;31mKeyboardInterrupt\u001b[0m                         Traceback (most recent call last)",
      "\u001b[0;32m<ipython-input-10-56550c424704>\u001b[0m in \u001b[0;36m<module>\u001b[0;34m\u001b[0m\n\u001b[1;32m     72\u001b[0m             \u001b[0;31m#print('%d: PRE COMPLETENESS SINGLE SAMPLE: %.2f' % (sampling_iter_idx, comp_1))\u001b[0m\u001b[0;34m\u001b[0m\u001b[0;34m\u001b[0m\u001b[0;34m\u001b[0m\u001b[0m\n\u001b[1;32m     73\u001b[0m \u001b[0;34m\u001b[0m\u001b[0m\n\u001b[0;32m---> 74\u001b[0;31m             \u001b[0mrun_sampling\u001b[0m\u001b[0;34m(\u001b[0m\u001b[0minput_sit\u001b[0m\u001b[0;34m,\u001b[0m \u001b[0mtarget_utters\u001b[0m\u001b[0;34m,\u001b[0m \u001b[0mnum_samples\u001b[0m\u001b[0;34m=\u001b[0m\u001b[0;36m100\u001b[0m\u001b[0;34m)\u001b[0m\u001b[0;34m\u001b[0m\u001b[0;34m\u001b[0m\u001b[0m\n\u001b[0m\u001b[1;32m     75\u001b[0m \u001b[0;34m\u001b[0m\u001b[0m\n\u001b[1;32m     76\u001b[0m             '''comp_2 = beam_completeness(\n",
      "\u001b[0;32m~/Documents/LanguageCorrectiveFeedback/new/sampling.py\u001b[0m in \u001b[0;36mwrapped_sampling\u001b[0;34m(input_sit, target_utters, num_samples)\u001b[0m\n\u001b[1;32m     21\u001b[0m                  \u001b[0mtemperature\u001b[0m\u001b[0;34m,\u001b[0m\u001b[0;34m\u001b[0m\u001b[0;34m\u001b[0m\u001b[0m\n\u001b[1;32m     22\u001b[0m                  \u001b[0mnum_samples\u001b[0m\u001b[0;34m,\u001b[0m\u001b[0;34m\u001b[0m\u001b[0;34m\u001b[0m\u001b[0m\n\u001b[0;32m---> 23\u001b[0;31m                  gen_length)\n\u001b[0m\u001b[1;32m     24\u001b[0m \u001b[0;34m\u001b[0m\u001b[0m\n\u001b[1;32m     25\u001b[0m     \u001b[0;32mreturn\u001b[0m \u001b[0mwrapped_sampling\u001b[0m\u001b[0;34m\u001b[0m\u001b[0;34m\u001b[0m\u001b[0m\n",
      "\u001b[0;32m~/Documents/LanguageCorrectiveFeedback/new/sampling.py\u001b[0m in \u001b[0;36msampling\u001b[0;34m(input_sit, target_utters, enc, dec, opt_enc, opt_dec, v2, start_id, eos_id, temperature, num_samples, gen_length)\u001b[0m\n\u001b[1;32m     41\u001b[0m             \u001b[0mlogits\u001b[0m\u001b[0;34m,\u001b[0m \u001b[0mh\u001b[0m \u001b[0;34m=\u001b[0m \u001b[0mdec\u001b[0m\u001b[0;34m(\u001b[0m\u001b[0mprev\u001b[0m\u001b[0;34m,\u001b[0m \u001b[0menc_hidden\u001b[0m\u001b[0;34m,\u001b[0m \u001b[0mh\u001b[0m\u001b[0;34m,\u001b[0m \u001b[0menc_out\u001b[0m\u001b[0;34m)\u001b[0m\u001b[0;34m\u001b[0m\u001b[0;34m\u001b[0m\u001b[0m\n\u001b[1;32m     42\u001b[0m \u001b[0;34m\u001b[0m\u001b[0m\n\u001b[0;32m---> 43\u001b[0;31m             \u001b[0mprobs\u001b[0m \u001b[0;34m=\u001b[0m \u001b[0mCategorical\u001b[0m\u001b[0;34m(\u001b[0m\u001b[0mF\u001b[0m\u001b[0;34m.\u001b[0m\u001b[0msoftmax\u001b[0m\u001b[0;34m(\u001b[0m\u001b[0mlogits\u001b[0m\u001b[0;34m[\u001b[0m\u001b[0;36m0\u001b[0m\u001b[0;34m]\u001b[0m \u001b[0;34m/\u001b[0m \u001b[0mtemperature\u001b[0m\u001b[0;34m,\u001b[0m \u001b[0mdim\u001b[0m\u001b[0;34m=\u001b[0m\u001b[0;36m0\u001b[0m\u001b[0;34m)\u001b[0m\u001b[0;34m)\u001b[0m\u001b[0;34m\u001b[0m\u001b[0;34m\u001b[0m\u001b[0m\n\u001b[0m\u001b[1;32m     44\u001b[0m \u001b[0;34m\u001b[0m\u001b[0m\n\u001b[1;32m     45\u001b[0m             \u001b[0mprev\u001b[0m \u001b[0;34m=\u001b[0m \u001b[0mprobs\u001b[0m\u001b[0;34m.\u001b[0m\u001b[0msample\u001b[0m\u001b[0;34m(\u001b[0m\u001b[0;34m)\u001b[0m\u001b[0;34m\u001b[0m\u001b[0;34m\u001b[0m\u001b[0m\n",
      "\u001b[0;32m~/miniconda3/envs/domiknows/lib/python3.7/site-packages/torch/distributions/categorical.py\u001b[0m in \u001b[0;36m__init__\u001b[0;34m(self, probs, logits, validate_args)\u001b[0m\n\u001b[1;32m     62\u001b[0m         \u001b[0mself\u001b[0m\u001b[0;34m.\u001b[0m\u001b[0m_num_events\u001b[0m \u001b[0;34m=\u001b[0m \u001b[0mself\u001b[0m\u001b[0;34m.\u001b[0m\u001b[0m_param\u001b[0m\u001b[0;34m.\u001b[0m\u001b[0msize\u001b[0m\u001b[0;34m(\u001b[0m\u001b[0;34m)\u001b[0m\u001b[0;34m[\u001b[0m\u001b[0;34m-\u001b[0m\u001b[0;36m1\u001b[0m\u001b[0;34m]\u001b[0m\u001b[0;34m\u001b[0m\u001b[0;34m\u001b[0m\u001b[0m\n\u001b[1;32m     63\u001b[0m         \u001b[0mbatch_shape\u001b[0m \u001b[0;34m=\u001b[0m \u001b[0mself\u001b[0m\u001b[0;34m.\u001b[0m\u001b[0m_param\u001b[0m\u001b[0;34m.\u001b[0m\u001b[0msize\u001b[0m\u001b[0;34m(\u001b[0m\u001b[0;34m)\u001b[0m\u001b[0;34m[\u001b[0m\u001b[0;34m:\u001b[0m\u001b[0;34m-\u001b[0m\u001b[0;36m1\u001b[0m\u001b[0;34m]\u001b[0m \u001b[0;32mif\u001b[0m \u001b[0mself\u001b[0m\u001b[0;34m.\u001b[0m\u001b[0m_param\u001b[0m\u001b[0;34m.\u001b[0m\u001b[0mndimension\u001b[0m\u001b[0;34m(\u001b[0m\u001b[0;34m)\u001b[0m \u001b[0;34m>\u001b[0m \u001b[0;36m1\u001b[0m \u001b[0;32melse\u001b[0m \u001b[0mtorch\u001b[0m\u001b[0;34m.\u001b[0m\u001b[0mSize\u001b[0m\u001b[0;34m(\u001b[0m\u001b[0;34m)\u001b[0m\u001b[0;34m\u001b[0m\u001b[0;34m\u001b[0m\u001b[0m\n\u001b[0;32m---> 64\u001b[0;31m         \u001b[0msuper\u001b[0m\u001b[0;34m(\u001b[0m\u001b[0mCategorical\u001b[0m\u001b[0;34m,\u001b[0m \u001b[0mself\u001b[0m\u001b[0;34m)\u001b[0m\u001b[0;34m.\u001b[0m\u001b[0m__init__\u001b[0m\u001b[0;34m(\u001b[0m\u001b[0mbatch_shape\u001b[0m\u001b[0;34m,\u001b[0m \u001b[0mvalidate_args\u001b[0m\u001b[0;34m=\u001b[0m\u001b[0mvalidate_args\u001b[0m\u001b[0;34m)\u001b[0m\u001b[0;34m\u001b[0m\u001b[0;34m\u001b[0m\u001b[0m\n\u001b[0m\u001b[1;32m     65\u001b[0m \u001b[0;34m\u001b[0m\u001b[0m\n\u001b[1;32m     66\u001b[0m     \u001b[0;32mdef\u001b[0m \u001b[0mexpand\u001b[0m\u001b[0;34m(\u001b[0m\u001b[0mself\u001b[0m\u001b[0;34m,\u001b[0m \u001b[0mbatch_shape\u001b[0m\u001b[0;34m,\u001b[0m \u001b[0m_instance\u001b[0m\u001b[0;34m=\u001b[0m\u001b[0;32mNone\u001b[0m\u001b[0;34m)\u001b[0m\u001b[0;34m:\u001b[0m\u001b[0;34m\u001b[0m\u001b[0;34m\u001b[0m\u001b[0m\n",
      "\u001b[0;32m~/miniconda3/envs/domiknows/lib/python3.7/site-packages/torch/distributions/distribution.py\u001b[0m in \u001b[0;36m__init__\u001b[0;34m(self, batch_shape, event_shape, validate_args)\u001b[0m\n\u001b[1;32m     51\u001b[0m                     \u001b[0;32mcontinue\u001b[0m  \u001b[0;31m# skip checking lazily-constructed args\u001b[0m\u001b[0;34m\u001b[0m\u001b[0;34m\u001b[0m\u001b[0m\n\u001b[1;32m     52\u001b[0m                 \u001b[0mvalue\u001b[0m \u001b[0;34m=\u001b[0m \u001b[0mgetattr\u001b[0m\u001b[0;34m(\u001b[0m\u001b[0mself\u001b[0m\u001b[0;34m,\u001b[0m \u001b[0mparam\u001b[0m\u001b[0;34m)\u001b[0m\u001b[0;34m\u001b[0m\u001b[0;34m\u001b[0m\u001b[0m\n\u001b[0;32m---> 53\u001b[0;31m                 \u001b[0mvalid\u001b[0m \u001b[0;34m=\u001b[0m \u001b[0mconstraint\u001b[0m\u001b[0;34m.\u001b[0m\u001b[0mcheck\u001b[0m\u001b[0;34m(\u001b[0m\u001b[0mvalue\u001b[0m\u001b[0;34m)\u001b[0m\u001b[0;34m\u001b[0m\u001b[0;34m\u001b[0m\u001b[0m\n\u001b[0m\u001b[1;32m     54\u001b[0m                 \u001b[0;32mif\u001b[0m \u001b[0;32mnot\u001b[0m \u001b[0mvalid\u001b[0m\u001b[0;34m.\u001b[0m\u001b[0mall\u001b[0m\u001b[0;34m(\u001b[0m\u001b[0;34m)\u001b[0m\u001b[0;34m:\u001b[0m\u001b[0;34m\u001b[0m\u001b[0;34m\u001b[0m\u001b[0m\n\u001b[1;32m     55\u001b[0m                     raise ValueError(\n",
      "\u001b[0;32m~/miniconda3/envs/domiknows/lib/python3.7/site-packages/torch/distributions/constraints.py\u001b[0m in \u001b[0;36mcheck\u001b[0;34m(self, value)\u001b[0m\n\u001b[1;32m    404\u001b[0m \u001b[0;34m\u001b[0m\u001b[0m\n\u001b[1;32m    405\u001b[0m     \u001b[0;32mdef\u001b[0m \u001b[0mcheck\u001b[0m\u001b[0;34m(\u001b[0m\u001b[0mself\u001b[0m\u001b[0;34m,\u001b[0m \u001b[0mvalue\u001b[0m\u001b[0;34m)\u001b[0m\u001b[0;34m:\u001b[0m\u001b[0;34m\u001b[0m\u001b[0;34m\u001b[0m\u001b[0m\n\u001b[0;32m--> 406\u001b[0;31m         \u001b[0;32mreturn\u001b[0m \u001b[0mtorch\u001b[0m\u001b[0;34m.\u001b[0m\u001b[0mall\u001b[0m\u001b[0;34m(\u001b[0m\u001b[0mvalue\u001b[0m \u001b[0;34m>=\u001b[0m \u001b[0;36m0\u001b[0m\u001b[0;34m,\u001b[0m \u001b[0mdim\u001b[0m\u001b[0;34m=\u001b[0m\u001b[0;34m-\u001b[0m\u001b[0;36m1\u001b[0m\u001b[0;34m)\u001b[0m \u001b[0;34m&\u001b[0m \u001b[0;34m(\u001b[0m\u001b[0;34m(\u001b[0m\u001b[0mvalue\u001b[0m\u001b[0;34m.\u001b[0m\u001b[0msum\u001b[0m\u001b[0;34m(\u001b[0m\u001b[0;34m-\u001b[0m\u001b[0;36m1\u001b[0m\u001b[0;34m)\u001b[0m \u001b[0;34m-\u001b[0m \u001b[0;36m1\u001b[0m\u001b[0;34m)\u001b[0m\u001b[0;34m.\u001b[0m\u001b[0mabs\u001b[0m\u001b[0;34m(\u001b[0m\u001b[0;34m)\u001b[0m \u001b[0;34m<\u001b[0m \u001b[0;36m1e-6\u001b[0m\u001b[0;34m)\u001b[0m\u001b[0;34m\u001b[0m\u001b[0;34m\u001b[0m\u001b[0m\n\u001b[0m\u001b[1;32m    407\u001b[0m \u001b[0;34m\u001b[0m\u001b[0m\n\u001b[1;32m    408\u001b[0m \u001b[0;34m\u001b[0m\u001b[0m\n",
      "\u001b[0;31mKeyboardInterrupt\u001b[0m: "
     ]
    }
   ],
   "source": [
    "from data import id_select\n",
    "from torch import nn\n",
    "from tqdm.auto import tqdm\n",
    "\n",
    "ce_loss = nn.CrossEntropyLoss()\n",
    "\n",
    "random.shuffle(train_sit_id)\n",
    "pbar = tqdm(train_sit_id)\n",
    "\n",
    "num_correct = 0\n",
    "\n",
    "for iter_idx, sit_id in enumerate(pbar):\n",
    "    utter_ids = sid2uids[sit_id]\n",
    "    \n",
    "    target_utters = id_select(utter_ids, utterances)\n",
    "    \n",
    "    input_sit_str = '^ ' + id_select([sit_id], situations)[0] + ' !'\n",
    "    input_sit = v1.tokenize(input_sit_str)\n",
    "    \n",
    "    tu = random.choice(target_utters) + ' !'\n",
    "    tu_target = v2.tokenize(tu)\n",
    "    \n",
    "    pred_ids, loss, logits_all = model_forward(input_sit,\n",
    "                                               force=True,\n",
    "                                               sample=False,\n",
    "                                               tu_target=tu_target,\n",
    "                                               loss_func=ce_loss,\n",
    "                                               gen_length=None)\n",
    "    \n",
    "    cleaned_pred = ' '.join(v2.decode(pred_ids)).replace('!', '').strip()\n",
    "    \n",
    "    if cleaned_pred in target_utters:\n",
    "        num_correct += 1\n",
    "    \n",
    "    loss.backward()\n",
    "    opt_dec.step()\n",
    "    opt_enc.step()\n",
    "    \n",
    "    opt_dec.zero_grad()\n",
    "    opt_enc.zero_grad()\n",
    "    \n",
    "    plot.add(loss = train_loss_run(loss.item()/len(pred_ids)), accuracy = num_correct/(iter_idx + 1))\n",
    "    \n",
    "    if iter_idx % 500 == 0:\n",
    "        eta = ''\n",
    "        if pbar.format_dict['rate'] != None:\n",
    "            eta = (pbar.format_dict['total'] - iter_idx) / pbar.format_dict['rate']\n",
    "        plot.output_show(suptitle=(cleaned_pred + \" | \" + tu.replace('!', '').strip() + \" | \" + str(eta)),\n",
    "                         subplots=(3, 3),\n",
    "                         figsize=(15, 10))\n",
    "    \n",
    "    if iter_idx % 500 == 0 and iter_idx != 0 and run_sampling:        \n",
    "        print('START SAMPLING:')\n",
    "        sampling_ids = random.sample(train_sit_id, 100)\n",
    "        for sampling_iter_idx, sit_id in enumerate(tqdm(sampling_ids)):\n",
    "            utter_ids = sid2uids[sit_id]\n",
    "    \n",
    "            target_utters = id_select(utter_ids, utterances)\n",
    "\n",
    "            input_sit_str = '^ ' + id_select([sit_id], situations)[0] + ' !'\n",
    "            input_sit = v1.tokenize(input_sit_str)\n",
    "            \n",
    "            '''comp_1 = beam_completeness(\n",
    "                                target_utters,\n",
    "                                input_sit,\n",
    "                                enc,\n",
    "                                dec,\n",
    "                                v2,\n",
    "                                start_id,\n",
    "                                eos_id,\n",
    "                                verbose=False)'''\n",
    "            #print('%d: PRE COMPLETENESS SINGLE SAMPLE: %.2f' % (sampling_iter_idx, comp_1))\n",
    "\n",
    "            run_sampling(input_sit, target_utters, num_samples=100)\n",
    "\n",
    "            '''comp_2 = beam_completeness(\n",
    "                                target_utters,\n",
    "                                input_sit,\n",
    "                                enc,\n",
    "                                dec,\n",
    "                                v2,\n",
    "                                start_id,\n",
    "                                eos_id,\n",
    "                                verbose=False)'''\n",
    "            #print('%d: POST COMPLETENESS SINGLE SAMPLE: %.2f' % (sampling_iter_idx, comp_2))\n",
    "    \n",
    "    if iter_idx % 500 == 0 and iter_idx != 0:\n",
    "        avg_valid_accuracy = 0.0\n",
    "        avg_valid_completeness = 0.0\n",
    "        \n",
    "        print('START VALIDATION:')\n",
    "        \n",
    "        for v_iter_idx, sit_id in enumerate(tqdm(valid_sit_id)):\n",
    "            utter_ids = sid2uids[sit_id]\n",
    "            \n",
    "            target_utters = id_select(utter_ids, utterances)\n",
    "            \n",
    "            input_sit_str = '^ ' + id_select([sit_id], situations)[0] + ' !'\n",
    "            input_sit = v1.tokenize(input_sit_str)\n",
    "            \n",
    "            with torch.no_grad():\n",
    "                pred_ids, _, logits_all = model_forward(input_sit,\n",
    "                                                        force=False,\n",
    "                                                        sample=False,\n",
    "                                                        tu_target=None,\n",
    "                                                        loss_func=None,\n",
    "                                                        gen_length=13)\n",
    "            \n",
    "            cleaned_pred = ' '.join(v2.decode(pred_ids)).replace('!', '').strip()\n",
    "            \n",
    "            if cleaned_pred in target_utters:\n",
    "                avg_valid_accuracy += 1\n",
    "            \n",
    "            if v_iter_idx < 100:\n",
    "                comp = beam_completeness(\n",
    "                            target_utters,\n",
    "                            input_sit,\n",
    "                            enc,\n",
    "                            dec,\n",
    "                            v2,\n",
    "                            start_id,\n",
    "                            eos_id,\n",
    "                            verbose=False)\n",
    "\n",
    "                avg_valid_completeness += comp\n",
    "        \n",
    "        avg_valid_accuracy /= len(valid_sit)\n",
    "        avg_valid_completeness /= 100\n",
    "        \n",
    "        plot.add(valid_accuracy=avg_valid_accuracy, valid_completeness=avg_valid_completeness)\n",
    "        "
   ]
  }
 ],
 "metadata": {
  "kernelspec": {
   "display_name": "Python 3",
   "language": "python",
   "name": "python3"
  },
  "language_info": {
   "codemirror_mode": {
    "name": "ipython",
    "version": 3
   },
   "file_extension": ".py",
   "mimetype": "text/x-python",
   "name": "python",
   "nbconvert_exporter": "python",
   "pygments_lexer": "ipython3",
   "version": "3.7.11"
  }
 },
 "nbformat": 4,
 "nbformat_minor": 5
}
